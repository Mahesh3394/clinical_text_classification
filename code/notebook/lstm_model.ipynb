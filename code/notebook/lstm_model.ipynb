{
 "cells": [
  {
   "cell_type": "code",
   "execution_count": 44,
   "metadata": {},
   "outputs": [],
   "source": [
    "# import necessary libraries\n",
    "\n",
    "\n",
    "import warnings\n",
    "warnings.filterwarnings(\"ignore\")\n",
    "import seaborn as sns\n",
    "import pandas as pd\n",
    "import matplotlib.pyplot as plt\n",
    "import numpy as np\n",
    "import re\n",
    "import string"
   ]
  },
  {
   "cell_type": "markdown",
   "metadata": {},
   "source": [
    "### Data Analysis :"
   ]
  },
  {
   "cell_type": "code",
   "execution_count": 45,
   "metadata": {},
   "outputs": [],
   "source": [
    "# read dataset\n",
    "\n",
    "data = pd.read_csv('../../data/train.dat', delimiter='\\t')"
   ]
  },
  {
   "cell_type": "code",
   "execution_count": 46,
   "metadata": {},
   "outputs": [],
   "source": [
    "# add column names\n",
    "\n",
    "data.columns = ['label','text']"
   ]
  },
  {
   "cell_type": "code",
   "execution_count": 47,
   "metadata": {},
   "outputs": [
    {
     "data": {
      "text/html": [
       "<div>\n",
       "<style scoped>\n",
       "    .dataframe tbody tr th:only-of-type {\n",
       "        vertical-align: middle;\n",
       "    }\n",
       "\n",
       "    .dataframe tbody tr th {\n",
       "        vertical-align: top;\n",
       "    }\n",
       "\n",
       "    .dataframe thead th {\n",
       "        text-align: right;\n",
       "    }\n",
       "</style>\n",
       "<table border=\"1\" class=\"dataframe\">\n",
       "  <thead>\n",
       "    <tr style=\"text-align: right;\">\n",
       "      <th></th>\n",
       "      <th>label</th>\n",
       "      <th>text</th>\n",
       "    </tr>\n",
       "  </thead>\n",
       "  <tbody>\n",
       "    <tr>\n",
       "      <th>0</th>\n",
       "      <td>5</td>\n",
       "      <td>Renal abscess in children. Three cases of rena...</td>\n",
       "    </tr>\n",
       "    <tr>\n",
       "      <th>1</th>\n",
       "      <td>2</td>\n",
       "      <td>Hyperplastic polyps seen at sigmoidoscopy are ...</td>\n",
       "    </tr>\n",
       "  </tbody>\n",
       "</table>\n",
       "</div>"
      ],
      "text/plain": [
       "   label                                               text\n",
       "0      5  Renal abscess in children. Three cases of rena...\n",
       "1      2  Hyperplastic polyps seen at sigmoidoscopy are ..."
      ]
     },
     "execution_count": 47,
     "metadata": {},
     "output_type": "execute_result"
    }
   ],
   "source": [
    "# take a look at dataset\n",
    "\n",
    "data.head(2)"
   ]
  },
  {
   "cell_type": "code",
   "execution_count": 269,
   "metadata": {},
   "outputs": [
    {
     "name": "stdout",
     "output_type": "stream",
     "text": [
      "Number of rows in data : 14437\n"
     ]
    }
   ],
   "source": [
    "# get shape of dataset\n",
    "\n",
    "print(\"Number of rows in data :\",data.shape[0])"
   ]
  },
  {
   "cell_type": "code",
   "execution_count": 49,
   "metadata": {},
   "outputs": [],
   "source": [
    "# label info from problem statement\n",
    "\n",
    "label_info = {1:'digestive system diseases',\n",
    "2:'cardiovascular diseases' ,\n",
    "3:'neoplasms',\n",
    "4:'nervous system diseases',\n",
    "5:'general pathological conditions'}\n"
   ]
  },
  {
   "cell_type": "code",
   "execution_count": 50,
   "metadata": {},
   "outputs": [],
   "source": [
    "# get condition column using label info\n",
    "\n",
    "data['conditions'] = data.label.apply(lambda x:label_info[x])"
   ]
  },
  {
   "cell_type": "code",
   "execution_count": 51,
   "metadata": {},
   "outputs": [
    {
     "data": {
      "text/html": [
       "<div>\n",
       "<style scoped>\n",
       "    .dataframe tbody tr th:only-of-type {\n",
       "        vertical-align: middle;\n",
       "    }\n",
       "\n",
       "    .dataframe tbody tr th {\n",
       "        vertical-align: top;\n",
       "    }\n",
       "\n",
       "    .dataframe thead th {\n",
       "        text-align: right;\n",
       "    }\n",
       "</style>\n",
       "<table border=\"1\" class=\"dataframe\">\n",
       "  <thead>\n",
       "    <tr style=\"text-align: right;\">\n",
       "      <th></th>\n",
       "      <th>label</th>\n",
       "      <th>text</th>\n",
       "      <th>conditions</th>\n",
       "    </tr>\n",
       "  </thead>\n",
       "  <tbody>\n",
       "    <tr>\n",
       "      <th>0</th>\n",
       "      <td>5</td>\n",
       "      <td>Renal abscess in children. Three cases of rena...</td>\n",
       "      <td>general pathological conditions</td>\n",
       "    </tr>\n",
       "    <tr>\n",
       "      <th>1</th>\n",
       "      <td>2</td>\n",
       "      <td>Hyperplastic polyps seen at sigmoidoscopy are ...</td>\n",
       "      <td>cardiovascular diseases</td>\n",
       "    </tr>\n",
       "  </tbody>\n",
       "</table>\n",
       "</div>"
      ],
      "text/plain": [
       "   label                                               text  \\\n",
       "0      5  Renal abscess in children. Three cases of rena...   \n",
       "1      2  Hyperplastic polyps seen at sigmoidoscopy are ...   \n",
       "\n",
       "                        conditions  \n",
       "0  general pathological conditions  \n",
       "1          cardiovascular diseases  "
      ]
     },
     "execution_count": 51,
     "metadata": {},
     "output_type": "execute_result"
    }
   ],
   "source": [
    "# look of dataset\n",
    "\n",
    "data.head(2)"
   ]
  },
  {
   "cell_type": "code",
   "execution_count": 52,
   "metadata": {},
   "outputs": [
    {
     "data": {
      "text/plain": [
       "general pathological conditions    4805\n",
       "digestive system diseases          3163\n",
       "nervous system diseases            3050\n",
       "neoplasms                          1925\n",
       "cardiovascular diseases            1494\n",
       "Name: conditions, dtype: int64"
      ]
     },
     "execution_count": 52,
     "metadata": {},
     "output_type": "execute_result"
    }
   ],
   "source": [
    "# get valuecounts for conditions\n",
    "\n",
    "data.conditions.value_counts()"
   ]
  },
  {
   "cell_type": "code",
   "execution_count": 261,
   "metadata": {},
   "outputs": [],
   "source": [
    "# create encoding dictionary for class label\n",
    "\n",
    "id_label = {i:j for i,j in enumerate(data.conditions.unique())}\n",
    "labei_id = {j:i for i,j in enumerate(data.conditions.unique())}"
   ]
  },
  {
   "cell_type": "code",
   "execution_count": 98,
   "metadata": {},
   "outputs": [
    {
     "data": {
      "text/plain": [
       "{'general pathological conditions': 0,\n",
       " 'cardiovascular diseases': 1,\n",
       " 'nervous system diseases': 2,\n",
       " 'digestive system diseases': 3,\n",
       " 'neoplasms': 4}"
      ]
     },
     "execution_count": 98,
     "metadata": {},
     "output_type": "execute_result"
    }
   ],
   "source": [
    "# label id dictionary\n",
    "\n",
    "labei_id"
   ]
  },
  {
   "cell_type": "code",
   "execution_count": 53,
   "metadata": {},
   "outputs": [],
   "source": [
    "# create function to plot categories\n",
    "\n",
    "def plot_count(feature,data_frame):\n",
    "\n",
    "    # plot countplot of body_type and add count on each bar\n",
    "    plt.figure(figsize=(8,8))\n",
    "    sns.countplot(y=feature,data=data_frame)\n",
    "    plt.title(f'Count of categories in {feature}')\n",
    "    for p in plt.gca().patches:\n",
    "        plt.gca().annotate('{:.0f}'.format(p.get_width()), (p.get_width(), p.get_y()+p.get_height()/2.), ha='center', va='center', xytext=(10, 0), textcoords='offset points')\n",
    "    plt.show()"
   ]
  },
  {
   "cell_type": "code",
   "execution_count": 54,
   "metadata": {},
   "outputs": [
    {
     "data": {
      "image/png": "[encoded data removed]",
      "text/plain": [
       "<Figure size 576x576 with 1 Axes>"
      ]
     },
     "metadata": {
      "needs_background": "light"
     },
     "output_type": "display_data"
    }
   ],
   "source": [
    "# plot countplot for conditions\n",
    "\n",
    "plot_count('conditions',data)"
   ]
  },
  {
   "cell_type": "code",
   "execution_count": 55,
   "metadata": {},
   "outputs": [],
   "source": [
    "# analysis of maximum lenghth of text\n",
    "\n",
    "data['len_words'] = data['text'].astype(str).apply(lambda x: len(x.split()))"
   ]
  },
  {
   "cell_type": "code",
   "execution_count": 56,
   "metadata": {},
   "outputs": [
    {
     "data": {
      "text/plain": [
       "<AxesSubplot:xlabel='len_words', ylabel='Count'>"
      ]
     },
     "execution_count": 56,
     "metadata": {},
     "output_type": "execute_result"
    },
    {
     "data": {
      "image/png": "[encoded data removed]",
      "text/plain": [
       "<Figure size 432x288 with 1 Axes>"
      ]
     },
     "metadata": {
      "needs_background": "light"
     },
     "output_type": "display_data"
    }
   ],
   "source": [
    "# plot len of text\n",
    "sns.histplot(data['len_words'], bins=5)"
   ]
  },
  {
   "cell_type": "code",
   "execution_count": 57,
   "metadata": {},
   "outputs": [
    {
     "name": "stdout",
     "output_type": "stream",
     "text": [
      "10 Quantile is 79.0\n",
      "20 Quantile is 108.0\n",
      "30 Quantile is 136.0\n",
      "40 Quantile is 157.0\n",
      "50 Quantile is 176.0\n",
      "60 Quantile is 198.0\n",
      "70 Quantile is 221.0\n",
      "80 Quantile is 249.0\n",
      "90 Quantile is 275.0\n",
      "100 Quantile is 596.0\n"
     ]
    }
   ],
   "source": [
    "# find the percentile value of len of text\n",
    "\n",
    "# english\n",
    "for i in np.arange(0.1,1.1,0.1):\n",
    "    print('{0} Quantile is {1}'.format(int(i*100),np.quantile(data['len_words'], i)))"
   ]
  },
  {
   "cell_type": "code",
   "execution_count": 58,
   "metadata": {},
   "outputs": [
    {
     "name": "stdout",
     "output_type": "stream",
     "text": [
      "90 Quantile is 275.0\n",
      "91 Quantile is 278.0\n",
      "92 Quantile is 282.0\n",
      "93 Quantile is 287.0\n",
      "94 Quantile is 294.0\n",
      "95 Quantile is 302.0\n",
      "96 Quantile is 315.0\n",
      "97 Quantile is 330.0\n",
      "98 Quantile is 351.28000000000065\n",
      "99 Quantile is 383.0\n",
      "100 Quantile is 596.0\n"
     ]
    }
   ],
   "source": [
    "# find the percentile value of len of text\n",
    "# english\n",
    "for i in np.arange(0.9,1.01,0.01):\n",
    "    print('{0} Quantile is {1}'.format(int(i*100),np.quantile(data['len_words'], i)))"
   ]
  },
  {
   "cell_type": "code",
   "execution_count": 59,
   "metadata": {},
   "outputs": [],
   "source": [
    "# create a function for basic pre-processing\n",
    "\n",
    "# stopwords= set(['br', 'the', 'i', 'me', 'my', 'myself', 'we', 'our', 'ours', 'ourselves', 'you', \"you're\", \"you've\",\\\n",
    "#             \"you'll\", \"you'd\", 'your', 'yours', 'yourself', 'yourselves', 'he', 'him', 'his', 'himself', \\\n",
    "#             'she', \"she's\", 'her', 'hers', 'herself', 'it', \"it's\", 'its', 'itself', 'they', 'them', 'their',\\\n",
    "#             'theirs', 'themselves', 'what', 'which', 'who', 'whom', 'this', 'that', \"that'll\", 'these', 'those', \\\n",
    "#             'am', 'is', 'are', 'was', 'were', 'be', 'been', 'being', 'have', 'has', 'had', 'having', 'do', 'does', \\\n",
    "#             'did', 'doing', 'a', 'an', 'the', 'and', 'but', 'if', 'or', 'because', 'as', 'until', 'while', 'of', \\\n",
    "#             'at', 'by', 'for', 'with', 'about', 'against', 'between', 'into', 'through', 'during', 'before', 'after',\\\n",
    "#             'above', 'below', 'to', 'from', 'up', 'down', 'in', 'out', 'on', 'off', 'over', 'under', 'again', 'further',\\\n",
    "#             'then', 'once', 'here', 'there', 'when', 'where', 'why', 'how', 'all', 'any', 'both', 'each', 'few', 'more',\\\n",
    "#             'most', 'other', 'some', 'such', 'only', 'own', 'same', 'so', 'than', 'too', 'very', \\\n",
    "#             's', 't', 'can', 'will', 'just', 'don', \"don't\", 'should', \"should've\", 'now', 'd', 'll', 'm', 'o', 're', \\\n",
    "#             've', 'y', 'ain', 'aren', \"aren't\", 'couldn', \"couldn't\", 'didn', \"didn't\", 'doesn', \"doesn't\", 'hadn',\\\n",
    "#             \"hadn't\", 'hasn', \"hasn't\", 'haven', \"haven't\", 'isn', \"isn't\", 'ma', 'mightn', \"mightn't\", 'mustn',\\\n",
    "#             \"mustn't\", 'needn', \"needn't\", 'shan', \"shan't\", 'shouldn', \"shouldn't\", 'wasn', \"wasn't\", 'weren', \"weren't\", \\\n",
    "#             'won', \"won't\", 'wouldn', \"wouldn't\"])\n",
    "\n",
    "def decontracted(phrase):\n",
    "    # specific\n",
    "    phrase = re.sub(r\"won't\", \"will not\", phrase)\n",
    "    phrase = re.sub(r\"can\\'t\", \"can not\", phrase)\n",
    "\n",
    "    # general\n",
    "    phrase = re.sub(r\"n\\'t\", \" not\", phrase)\n",
    "    phrase = re.sub(r\"\\'re\", \" are\", phrase)\n",
    "    phrase = re.sub(r\"\\'s\", \" is\", phrase)\n",
    "    phrase = re.sub(r\"\\'d\", \" would\", phrase)\n",
    "    phrase = re.sub(r\"\\'ll\", \" will\", phrase)\n",
    "    phrase = re.sub(r\"\\'t\", \" not\", phrase)\n",
    "    phrase = re.sub(r\"\\'ve\", \" have\", phrase)\n",
    "    phrase = re.sub(r\"\\'m\", \" am\", phrase)\n",
    "    return phrase\n",
    "\n",
    "\n",
    "def preprocess_text(text):\n",
    "    text = text.lower()\n",
    "    text = re.sub(r\"\\n\", \" \", text)\n",
    "    text = re.sub(r\"\\d\", \" \", text)\n",
    "    text = re.sub(r\"<.*?>+\", \"\", text)\n",
    "    text = re.sub(\"\\[.*?\\]\", \"\", text)\n",
    "    text = re.sub(\"https?://S+|www.\\.\\S+\", \"\", text)\n",
    "    text = text.translate(str.maketrans(\"\", \"\", string.punctuation))\n",
    "    text = re.sub(r'xx', '', text)\n",
    "    text = decontracted(text)\n",
    "    words = text.split()\n",
    "#     words = [word for word in words if not word in stopwords]\n",
    "#     words = [re.sub(r\"(.)\\1{1,}\", r\"\\1\\1\", word) for word in words]\n",
    "    words = [word.strip() for word in words if len(word.strip()) > 1]\n",
    "    text = \" \".join(words)\n",
    "    return text"
   ]
  },
  {
   "cell_type": "code",
   "execution_count": 60,
   "metadata": {},
   "outputs": [
    {
     "data": {
      "text/plain": [
       "'marketed preapproval program on creditkarma to refinance car at lower rate it said could get preapproved with no affect on my credit company was sent to is didnt like the offers on so didnt move forward and today checked my credit and summitted it to inquired on on record until inquired on on record until inquired on on record until reached out and was told gave explict consent and'"
      ]
     },
     "execution_count": 60,
     "metadata": {},
     "output_type": "execute_result"
    }
   ],
   "source": [
    "# check on one text\n",
    "\n",
    "txt = \"marketed a preapproval program on creditkarma to refinance a car at a lower rate, it said i could get preapproved with no affect on my credit, company i was sent to is XXXX didnt like the offers on XX/XX/XXXX so didnt move forward and today XX/XX/XXXX XXXX checked my credit and summitted it to XXXX XXXX XXXX Inquired on XX/XX/XXXX On record until XX/XX/XXXX XXXX XXXX XXXXXXXX XXXX Inquired on XX/XX/XXXX On record until XX/XX/XXXX XXXX XXXX XXXX  Inquired on XX/XX/XXXX On record until XX/XX/XXXX i reached out and was told i gave explict consent and \"\n",
    "\n",
    "preprocess_text(txt)"
   ]
  },
  {
   "cell_type": "code",
   "execution_count": 61,
   "metadata": {},
   "outputs": [],
   "source": [
    "# apply pre-processing on complaint columns\n",
    "\n",
    "data[\"text\"] = data[\"text\"].apply(preprocess_text)"
   ]
  },
  {
   "cell_type": "code",
   "execution_count": 120,
   "metadata": {},
   "outputs": [
    {
     "data": {
      "text/plain": [
       "'subclavian artery to innominate vein fistula after insertion of hemodialysis catheter insertion of hemodialysis catheters for temporary use is now preferentially performed by percutaneous infraclavicular subclavian vein catheterization this method involves passage of stiff dilator and peelaway sheath over guide wire and is usually carried out without fluoroscopy for the most part this has proved to be valuable and safe approach however small incidence of major complications occurs which needs to be emphasized sixteen cases of arteriovenous fistulas between the subclavian artery or its branches and the subclavian vein have been reported so far in the literature to date only one case of subclavian artery to innominate vein fistula has been reported we report the second case with this complication and suggest possible preventive measures'"
      ]
     },
     "execution_count": 120,
     "metadata": {},
     "output_type": "execute_result"
    }
   ],
   "source": [
    "data.text.values[2]"
   ]
  },
  {
   "cell_type": "code",
   "execution_count": 121,
   "metadata": {},
   "outputs": [
    {
     "data": {
      "text/plain": [
       "'general pathological conditions'"
      ]
     },
     "execution_count": 121,
     "metadata": {},
     "output_type": "execute_result"
    }
   ],
   "source": [
    "data.conditions.values[2]"
   ]
  },
  {
   "cell_type": "code",
   "execution_count": 62,
   "metadata": {},
   "outputs": [],
   "source": [
    "# data.to_csv('train_data.csv')"
   ]
  },
  {
   "cell_type": "markdown",
   "metadata": {},
   "source": [
    "### LSTM:"
   ]
  },
  {
   "cell_type": "code",
   "execution_count": 20,
   "metadata": {},
   "outputs": [],
   "source": [
    "#import necessary liabraries\n",
    "\n",
    "from keras_preprocessing.sequence import pad_sequences\n",
    "from keras.layers import Input, Dense, LSTM, Embedding\n",
    "from keras.layers import Dropout, Activation, Bidirectional, GlobalMaxPool1D\n",
    "from keras.models import Sequential\n",
    "from keras import initializers, regularizers, constraints, optimizers, layers\n",
    "from keras.preprocessing import text, sequence\n",
    "from tensorflow.keras.preprocessing.text import Tokenizer"
   ]
  },
  {
   "cell_type": "code",
   "execution_count": 21,
   "metadata": {},
   "outputs": [],
   "source": [
    "# create x and y columns\n",
    "\n",
    "X = data['text']\n",
    "y = data['conditions']"
   ]
  },
  {
   "cell_type": "code",
   "execution_count": 22,
   "metadata": {},
   "outputs": [],
   "source": [
    "# Split into training and temporary set (temp_set)\n",
    "from sklearn.model_selection import train_test_split\n",
    "\n",
    "X_train, X_test, y_train, y_test = train_test_split(X,y,test_size=0.2, stratify=y,random_state=42)"
   ]
  },
  {
   "cell_type": "code",
   "execution_count": 23,
   "metadata": {},
   "outputs": [],
   "source": [
    "# Tokenization on data\n",
    "\n",
    "token_eng = Tokenizer()\n",
    "token_eng.fit_on_texts(X_train.astype(str))"
   ]
  },
  {
   "cell_type": "code",
   "execution_count": 24,
   "metadata": {},
   "outputs": [
    {
     "name": "stdout",
     "output_type": "stream",
     "text": [
      "Vocab size of text data 40189\n"
     ]
    }
   ],
   "source": [
    "# vocab size for given dataset\n",
    "\n",
    "vocab_size=len(token_eng.word_index.keys())\n",
    "print('Vocab size of text data',vocab_size)\n"
   ]
  },
  {
   "cell_type": "code",
   "execution_count": 25,
   "metadata": {},
   "outputs": [],
   "source": [
    "# convert text to numbers\n",
    "\n",
    "max_len = 350\n",
    "\n",
    "# text to sequence\n",
    "\n",
    "X_train = token_eng.texts_to_sequences(X_train.astype(str))\n",
    "X_test = token_eng.texts_to_sequences(X_test.astype(str))"
   ]
  },
  {
   "cell_type": "code",
   "execution_count": 26,
   "metadata": {},
   "outputs": [],
   "source": [
    "# pad sequence to max length\n",
    "\n",
    "x_train_seq = pad_sequences(X_train, maxlen=max_len, padding='post', dtype='int32')\n",
    "x_test_seq = pad_sequences(X_test, maxlen=max_len, padding='post', dtype='int32')"
   ]
  },
  {
   "cell_type": "code",
   "execution_count": 27,
   "metadata": {},
   "outputs": [
    {
     "data": {
      "text/plain": [
       "(11549, 350)"
      ]
     },
     "execution_count": 27,
     "metadata": {},
     "output_type": "execute_result"
    }
   ],
   "source": [
    "# get shape of tokenize data\n",
    "\n",
    "x_train_seq.shape"
   ]
  },
  {
   "cell_type": "code",
   "execution_count": 28,
   "metadata": {},
   "outputs": [],
   "source": [
    "# use one hot encoding since our target is categorical\n",
    "\n",
    "y_train = pd.get_dummies(y_train).values\n",
    "y_test = pd.get_dummies(y_test).values"
   ]
  },
  {
   "cell_type": "markdown",
   "metadata": {},
   "source": [
    "#### LSTM Model Architecture:"
   ]
  },
  {
   "cell_type": "code",
   "execution_count": 30,
   "metadata": {},
   "outputs": [],
   "source": [
    "# create a model architecture\n",
    "\n",
    "total_vocabulary = vocab_size + 1\n",
    "\n",
    "model = Sequential()\n",
    "\n",
    "embedding_size = 128\n",
    "model.add(Embedding(total_vocabulary, embedding_size))\n",
    "model.add(LSTM(25, return_sequences=True))\n",
    "model.add(GlobalMaxPool1D())\n",
    "model.add(Dropout(0.3))\n",
    "model.add(Dense(50, activation='relu'))\n",
    "model.add(Dropout(0.3))\n",
    "model.add(Dense(50, activation='relu'))\n",
    "model.add(Dropout(0.3))\n",
    "model.add(Dense(5, activation='softmax'))"
   ]
  },
  {
   "cell_type": "code",
   "execution_count": 31,
   "metadata": {
    "scrolled": true
   },
   "outputs": [
    {
     "name": "stdout",
     "output_type": "stream",
     "text": [
      "Model: \"sequential\"\n",
      "_________________________________________________________________\n",
      " Layer (type)                Output Shape              Param #   \n",
      "=================================================================\n",
      " embedding (Embedding)       (None, None, 128)         5144320   \n",
      "                                                                 \n",
      " lstm (LSTM)                 (None, None, 25)          15400     \n",
      "                                                                 \n",
      " global_max_pooling1d (Globa  (None, 25)               0         \n",
      " lMaxPooling1D)                                                  \n",
      "                                                                 \n",
      " dropout (Dropout)           (None, 25)                0         \n",
      "                                                                 \n",
      " dense (Dense)               (None, 50)                1300      \n",
      "                                                                 \n",
      " dropout_1 (Dropout)         (None, 50)                0         \n",
      "                                                                 \n",
      " dense_1 (Dense)             (None, 50)                2550      \n",
      "                                                                 \n",
      " dropout_2 (Dropout)         (None, 50)                0         \n",
      "                                                                 \n",
      " dense_2 (Dense)             (None, 5)                 255       \n",
      "                                                                 \n",
      "=================================================================\n",
      "Total params: 5,163,825\n",
      "Trainable params: 5,163,825\n",
      "Non-trainable params: 0\n",
      "_________________________________________________________________\n"
     ]
    }
   ],
   "source": [
    "# compile model and get model summary\n",
    "\n",
    "model.compile(loss='categorical_crossentropy', \n",
    "              optimizer='adam', \n",
    "              metrics=['accuracy'])\n",
    "model.summary() # check the shape"
   ]
  },
  {
   "cell_type": "code",
   "execution_count": 32,
   "metadata": {},
   "outputs": [],
   "source": [
    "from tensorflow.keras.callbacks import EarlyStopping\n",
    "\n",
    "# Step 3: Set up early stopping\n",
    "early_stopping = EarlyStopping(monitor='val_loss', patience=5, restore_best_weights=True)"
   ]
  },
  {
   "cell_type": "code",
   "execution_count": 33,
   "metadata": {},
   "outputs": [
    {
     "name": "stdout",
     "output_type": "stream",
     "text": [
      "Epoch 1/30\n",
      "361/361 [==============================] - 59s 156ms/step - loss: 1.3691 - accuracy: 0.4312 - val_loss: 1.1040 - val_accuracy: 0.5561\n",
      "Epoch 2/30\n",
      "361/361 [==============================] - 55s 153ms/step - loss: 1.0767 - accuracy: 0.5757 - val_loss: 1.0611 - val_accuracy: 0.5651\n",
      "Epoch 3/30\n",
      "361/361 [==============================] - 55s 153ms/step - loss: 0.9206 - accuracy: 0.6362 - val_loss: 1.0546 - val_accuracy: 0.5471\n",
      "Epoch 4/30\n",
      "361/361 [==============================] - 54s 150ms/step - loss: 0.8038 - accuracy: 0.6856 - val_loss: 1.1472 - val_accuracy: 0.5377\n",
      "Epoch 5/30\n",
      "361/361 [==============================] - 55s 153ms/step - loss: 0.7051 - accuracy: 0.7222 - val_loss: 1.1780 - val_accuracy: 0.5353\n",
      "Epoch 6/30\n",
      "361/361 [==============================] - 58s 160ms/step - loss: 0.6447 - accuracy: 0.7415 - val_loss: 1.3844 - val_accuracy: 0.5132\n",
      "Epoch 7/30\n",
      "361/361 [==============================] - 58s 161ms/step - loss: 0.5960 - accuracy: 0.7582 - val_loss: 1.3492 - val_accuracy: 0.5042\n",
      "Epoch 8/30\n",
      "361/361 [==============================] - 56s 156ms/step - loss: 0.5557 - accuracy: 0.7697 - val_loss: 1.4893 - val_accuracy: 0.4993\n"
     ]
    }
   ],
   "source": [
    "# fit model defining epoch and batch size\n",
    "\n",
    "history = model.fit(x_train_seq, y_train, epochs=30, batch_size=32,validation_data=(x_test_seq, y_test), callbacks=[early_stopping])"
   ]
  },
  {
   "cell_type": "code",
   "execution_count": 37,
   "metadata": {},
   "outputs": [],
   "source": [
    "# save modelin model folder\n",
    "\n",
    "model.save('../../model/lstm_model.h5')"
   ]
  },
  {
   "cell_type": "markdown",
   "metadata": {},
   "source": [
    "### Inference on new query point"
   ]
  },
  {
   "cell_type": "code",
   "execution_count": 262,
   "metadata": {},
   "outputs": [],
   "source": [
    "def get_prediction(test_data):\n",
    "    pre_text = preprocess_text(test_data)\n",
    "    token_text = token_eng.texts_to_sequences([pre_text])\n",
    "    pad_text = pad_sequences(token_text, maxlen=350, padding='post', dtype='int32')\n",
    "    predictions = model.predict(pad_text.reshape(1,-1))\n",
    "#     print(predictions)\n",
    "    # Example post-processing for a classification task\n",
    "    predicted_labels = np.argmax(predictions, axis=1)\n",
    "#     print(predicted_labels)\n",
    "    return id_label[predicted_labels[0]]"
   ]
  },
  {
   "cell_type": "code",
   "execution_count": 266,
   "metadata": {},
   "outputs": [
    {
     "name": "stdout",
     "output_type": "stream",
     "text": [
      "1/1 [==============================] - 0s 39ms/step\n",
      "nervous system diseases\n",
      "****************************************************************************************************\n",
      "Ground truth is : nervous system diseases\n"
     ]
    }
   ],
   "source": [
    "# get model predictions \n",
    "num = 3\n",
    "query = data.text.values[num]\n",
    "pred = get_prediction(query)\n",
    "print(pred)\n",
    "print(\"*\"*100)\n",
    "\n",
    "print(\"Ground truth is :\",data.conditions.values[num])"
   ]
  },
  {
   "cell_type": "code",
   "execution_count": null,
   "metadata": {},
   "outputs": [],
   "source": []
  }
 ],
 "metadata": {
  "kernelspec": {
   "display_name": "tf2.2.0",
   "language": "python",
   "name": "tf2.2.0"
  },
  "language_info": {
   "codemirror_mode": {
    "name": "ipython",
    "version": 3
   },
   "file_extension": ".py",
   "mimetype": "text/x-python",
   "name": "python",
   "nbconvert_exporter": "python",
   "pygments_lexer": "ipython3",
   "version": "3.7.6"
  }
 },
 "nbformat": 4,
 "nbformat_minor": 4
}
